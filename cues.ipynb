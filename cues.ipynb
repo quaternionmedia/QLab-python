{
 "cells": [
  {
   "cell_type": "code",
   "execution_count": null,
   "metadata": {},
   "outputs": [],
   "source": [
    "from qlab.cues import Cues\n",
    "from characters import characters\n",
    "\n",
    "c = Cues(channels=characters, address=\"127.0.0.1\")"
   ]
  },
  {
   "cell_type": "code",
   "execution_count": null,
   "metadata": {},
   "outputs": [],
   "source": [
    "c.q.send(\"/alwaysReply\", 1)\n",
    "# c.q.send('/cue/4/name', 'auto added')"
   ]
  },
  {
   "cell_type": "code",
   "execution_count": null,
   "metadata": {},
   "outputs": [],
   "source": [
    "# c.cues[\"1\"]\n",
    "# i = c.q.get_cue_property(\"1\", \"uniqueID\")\n",
    "# c.q.client.get_message()\n",
    "# c.q.send('/cue/0/number', '0.0')\n",
    "\n",
    "# c.cuelists"
   ]
  },
  {
   "cell_type": "code",
   "execution_count": null,
   "metadata": {},
   "outputs": [],
   "source": [
    "# c.q.send(f'/cue_id/{i}/number')\n",
    "# c.q.send(f'/select_id/90E4A16E-3F5C-42B8-ACCA-EBE175667392')\n",
    "# c.q.send(\"/new\", \"network\")\n",
    "# c.q.send(\"/new\", [\"network\", '0604629E-DF21-4F44-93BE-338A9FBDD450'])\n",
    "c.q.send(\"/cue/17/colorName\", \"blue\")"
   ]
  },
  {
   "cell_type": "code",
   "execution_count": null,
   "metadata": {},
   "outputs": [],
   "source": [
    "c.sync_cuelist(\"Urinetown_2024-3-8_14-15-41.csv\")"
   ]
  },
  {
   "cell_type": "code",
   "execution_count": null,
   "metadata": {},
   "outputs": [],
   "source": [
    "from qlab.cues import Cue, flatten_cuelist\n",
    "\n",
    "c.cuelists\n",
    "\n",
    "# c.cuelists[0].cues\n",
    "# c.cues\n",
    "q = Cue(**c.q.send('/cueLists')['data'][0])\n",
    "flatten_cuelist(q)"
   ]
  }
 ],
 "metadata": {
  "kernelspec": {
   "display_name": ".venv",
   "language": "python",
   "name": "python3"
  },
  "language_info": {
   "codemirror_mode": {
    "name": "ipython",
    "version": 3
   },
   "file_extension": ".py",
   "mimetype": "text/x-python",
   "name": "python",
   "nbconvert_exporter": "python",
   "pygments_lexer": "ipython3",
   "version": "3.12.4"
  }
 },
 "nbformat": 4,
 "nbformat_minor": 2
}
