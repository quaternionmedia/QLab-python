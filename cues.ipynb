{
 "cells": [
  {
   "cell_type": "code",
   "execution_count": 1,
   "metadata": {},
   "outputs": [],
   "source": [
    "from qlab.cues import Cues\n",
    "from characters import characters\n",
    "\n",
    "c = Cues(channels=characters, address=\"127.0.0.1\")"
   ]
  },
  {
   "cell_type": "code",
   "execution_count": 2,
   "metadata": {},
   "outputs": [
    {
     "data": {
      "text/plain": [
       "{'address': '/alwaysReply', 'status': 'ok'}"
      ]
     },
     "execution_count": 2,
     "metadata": {},
     "output_type": "execute_result"
    }
   ],
   "source": [
    "c.q.send(\"/alwaysReply\", 1)\n",
    "# c.q.send('/cue/4/name', 'auto added')"
   ]
  },
  {
   "cell_type": "code",
   "execution_count": 3,
   "metadata": {},
   "outputs": [],
   "source": [
    "# c.cues[\"1\"]\n",
    "# i = c.q.get_cue_property(\"1\", \"uniqueID\")\n",
    "# c.q.client.get_message()\n",
    "# c.q.send('/cue/0/number', '0.0')\n",
    "\n",
    "# c.cuelists"
   ]
  },
  {
   "cell_type": "code",
   "execution_count": 4,
   "metadata": {},
   "outputs": [],
   "source": [
    "# c.q.send(f'/cue_id/{i}/number')\n",
    "# c.q.send(f'/select_id/90E4A16E-3F5C-42B8-ACCA-EBE175667392')\n",
    "# c.q.send(\"/new\", \"network\")\n",
    "# c.q.send(\"/new\", [\"network\", '0604629E-DF21-4F44-93BE-338A9FBDD450'])\n",
    "# c.q.send(\"/cue/17/colorName\", \"blue\")"
   ]
  },
  {
   "cell_type": "code",
   "execution_count": null,
   "metadata": {},
   "outputs": [
    {
     "name": "stdout",
     "output_type": "stream",
     "text": [
      "creating cue page=6 layer='Lights' number='1' name='Preshow' notes='' id=None type='Network' layer='Lights' number='1' name='Preshow' notes='p6' cues=None colorName=None armed=None\n",
      "creating cue page=6 layer='Lights' number='5' name='Curtain speech' notes='' id=None type='Network' layer='Lights' number='5' name='Curtain speech' notes='p6' cues=None colorName=None armed=None\n",
      "creating cue page=6 layer='Lights' number='9' name='Blackout' notes='' id=None type='Network' layer='Lights' number='9' name='Blackout' notes='p6' cues=None colorName=None armed=None\n",
      "creating cue page=6 layer='Lights' number='10' name='Overture' notes='' id=None type='Network' layer='Lights' number='10' name='Overture' notes='p6' cues=None colorName=None armed=None\n",
      "creating cue page=6 layer='Lights' number='11' name='Solo: John - FOC?' notes='' id=None type='Network' layer='Lights' number='11' name='Solo: John - FOC?' notes='p6' cues=None colorName=None armed=None\n",
      "creating cue page=6 layer='Lights' number='12' name='Lights up - Congress' notes='' id=None type='Network' layer='Lights' number='12' name='Lights up - Congress' notes='p6' cues=None colorName=None armed=None\n",
      "creating cue page=6 layer='Sound' number='10' name='unmute John' notes='' id=None type='Group' layer='Sound' number='s10' name='unmute John' notes='p6' cues=None colorName=None armed=None\n",
      "sound cue unmute ['John']\n",
      "creating cue page=6 layer='Sound' number='11' name='unmute Congress' notes='' id=None type='Group' layer='Sound' number='s11' name='unmute Congress' notes='p6' cues=None colorName=None armed=None\n",
      "sound cue unmute ['Congress']\n",
      "creating cue page=7 layer='Sound' number='12' name='unmute Congress A' notes='' id=None type='Group' layer='Sound' number='s12' name='unmute Congress A' notes='p7' cues=None colorName=None armed=None\n",
      "sound cue unmute ['Congress A']\n",
      "unknown target Congress A\n",
      "creating cue page=8 layer='Lights' number='20' name='\"Piddle Twiddle\"' notes='' id=None type='Network' layer='Lights' number='20' name='\"Piddle Twiddle\"' notes='p8' cues=None colorName=None armed=None\n",
      "creating cue page=8 layer='Sound' number='13' name='mute Congress' notes='' id=None type='Group' layer='Sound' number='s13' name='mute Congress' notes='p8' cues=None colorName=None armed=None\n",
      "sound cue mute ['Congress']\n",
      "creating cue page=8 layer='Sound' number='14' name='unmute Voice' notes='' id=None type='Group' layer='Sound' number='s14' name='unmute Voice' notes='p8' cues=None colorName=None armed=None\n",
      "sound cue unmute ['Voice']\n",
      "unknown target Voice\n",
      "creating cue page=8 layer='Sound' number='15' name='mute Voice' notes='' id=None type='Group' layer='Sound' number='s15' name='mute Voice' notes='p8' cues=None colorName=None armed=None\n",
      "sound cue mute ['Voice']\n",
      "unknown target Voice\n",
      "creating cue page=14 layer='Lights' number='30' name='Scene 2 - The Mall' notes='' id=None type='Network' layer='Lights' number='30' name='Scene 2 - The Mall' notes='p14' cues=None colorName=None armed=None\n",
      "creating cue page=18 layer='Lights' number='40' name='\"Lees of Old Virginia\"' notes='' id=None type='Network' layer='Lights' number='40' name='\"Lees of Old Virginia\"' notes='p18' cues=None colorName=None armed=None\n",
      "creating cue page=22 layer='Lights' number='50' name=\"He's Back!\" notes='' id=None type='Network' layer='Lights' number='50' name=\"He's Back!\" notes='p22' cues=None colorName=None armed=None\n",
      "creating cue page=23 layer='Lights' number='59' name='Fade to blackout' notes='' id=None type='Network' layer='Lights' number='59' name='Fade to blackout' notes='p23' cues=None colorName=None armed=None\n",
      "creating cue page=24 layer='Lights' number='60' name='Scene 3 - The Chamber' notes='' id=None type='Network' layer='Lights' number='60' name='Scene 3 - The Chamber' notes='p24' cues=None colorName=None armed=None\n",
      "creating cue page=28 layer='Lights' number='65' name='Chamber fills' notes='' id=None type='Network' layer='Lights' number='65' name='Chamber fills' notes='p28' cues=None colorName=None armed=None\n",
      "creating cue page=32 layer='Lights' number='70' name='Hancock enters' notes='' id=None type='Network' layer='Lights' number='70' name='Hancock enters' notes='p32' cues=None colorName=None armed=None\n",
      "creating cue page=34 layer='Lights' number='75' name='Focus Jefferson' notes='' id=None type='Network' layer='Lights' number='75' name='Focus Jefferson' notes='p34' cues=None colorName=None armed=None\n",
      "creating cue page=34 layer='Lights' number='80' name='Focus Thomson' notes='' id=None type='Network' layer='Lights' number='80' name='Focus Thomson' notes='p34' cues=None colorName=None armed=None\n",
      "creating cue page=35 layer='Lights' number='85' name='Back to scene' notes='' id=None type='Network' layer='Lights' number='85' name='Back to scene' notes='p35' cues=None colorName=None armed=None\n",
      "creating cue page=36 layer='Lights' number='90' name='Lee enters' notes='' id=None type='Network' layer='Lights' number='90' name='Lee enters' notes='p36' cues=None colorName=None armed=None\n",
      "creating cue page=36 layer='Lights' number='91' name='Focus Tom' notes='' id=None type='Network' layer='Lights' number='91' name='Focus Tom' notes='p36' cues=None colorName=None armed=None\n",
      "creating cue page=37 layer='Lights' number='92' name='Cheers!' notes='' id=None type='Network' layer='Lights' number='92' name='Cheers!' notes='p37' cues=None colorName=None armed=None\n",
      "creating cue page=37 layer='Lights' number='93' name='Focus Dickinson' notes='' id=None type='Network' layer='Lights' number='93' name='Focus Dickinson' notes='p37' cues=None colorName=None armed=None\n",
      "creating cue page=38 layer='Lights' number='95' name='Focus Tally board' notes='' id=None type='Network' layer='Lights' number='95' name='Focus Tally board' notes='p38' cues=None colorName=None armed=None\n",
      "creating cue page=40 layer='Lights' number='97' name='Focus Rutledge' notes='' id=None type='Network' layer='Lights' number='97' name='Focus Rutledge' notes='p40' cues=None colorName=None armed=None\n",
      "creating cue page=42 layer='Lights' number='100' name='Cheers!' notes='' id=None type='Network' layer='Lights' number='100' name='Cheers!' notes='p42' cues=None colorName=None armed=None\n",
      "creating cue page=44 layer='Lights' number='105' name='Slow build' notes='' id=None type='Network' layer='Lights' number='105' name='Slow build' notes='p44' cues=None colorName=None armed=None\n",
      "creating cue page=51 layer='Lights' number='110' name='Build' notes='' id=None type='Network' layer='Lights' number='110' name='Build' notes='p51' cues=None colorName=None armed=None\n",
      "creating cue page=52 layer='Lights' number='115' name='Stop! Focus Rodney' notes='' id=None type='Network' layer='Lights' number='115' name='Stop! Focus Rodney' notes='p52' cues=None colorName=None armed=None\n",
      "creating cue page=52 layer='Lights' number='116' name='He falls' notes='' id=None type='Network' layer='Lights' number='116' name='He falls' notes='p52' cues=None colorName=None armed=None\n",
      "creating cue page=52 layer='Lights' number='117' name='Hall, McKean' notes='' id=None type='Network' layer='Lights' number='117' name='Hall, McKean' notes='p52' cues=None colorName=None armed=None\n",
      "creating cue page=53 layer='Lights' number='118' name='McKean carries Rodney out' notes='' id=None type='Network' layer='Lights' number='118' name='McKean carries Rodney out' notes='p53' cues=None colorName=None armed=None\n",
      "creating cue page=53 layer='Lights' number='119' name='Focus Rutledge' notes='' id=None type='Network' layer='Lights' number='119' name='Focus Rutledge' notes='p53' cues=None colorName=None armed=None\n",
      "creating cue page=53 layer='Lights' number='120' name='Focus Tally' notes='' id=None type='Network' layer='Lights' number='120' name='Focus Tally' notes='p53' cues=None colorName=None armed=None\n",
      "creating cue page=53 layer='Lights' number='121' name='Arguments' notes='' id=None type='Network' layer='Lights' number='121' name='Arguments' notes='p53' cues=None colorName=None armed=None\n",
      "creating cue page=53 layer='Lights' number='122' name='Focus Hancock' notes='' id=None type='Network' layer='Lights' number='122' name='Focus Hancock' notes='p53' cues=None colorName=None armed=None\n",
      "creating cue page=53 layer='Lights' number='123' name='Focus John, Franklin' notes='' id=None type='Network' layer='Lights' number='123' name='Focus John, Franklin' notes='p53' cues=None colorName=None armed=None\n",
      "creating cue page=53 layer='Lights' number='124' name='Focus Tally' notes='' id=None type='Network' layer='Lights' number='124' name='Focus Tally' notes='p53' cues=None colorName=None armed=None\n",
      "creating cue page=54 layer='Lights' number='125' name='Witherspoon enters' notes='' id=None type='Network' layer='Lights' number='125' name='Witherspoon enters' notes='p54' cues=None colorName=None armed=None\n",
      "creating cue page=54 layer='Lights' number='126' name='Focus Franklin' notes='' id=None type='Network' layer='Lights' number='126' name='Focus Franklin' notes='p54' cues=None colorName=None armed=None\n",
      "creating cue page=55 layer='Lights' number='127' name='Focus Tally' notes='' id=None type='Network' layer='Lights' number='127' name='Focus Tally' notes='p55' cues=None colorName=None armed=None\n",
      "creating cue page=55 layer='Lights' number='130' name='Focus Dickinson' notes='' id=None type='Network' layer='Lights' number='130' name='Focus Dickinson' notes='p55' cues=None colorName=None armed=None\n",
      "creating cue page=56 layer='Lights' number='131' name='Focus Tally' notes='' id=None type='Network' layer='Lights' number='131' name='Focus Tally' notes='p56' cues=None colorName=None armed=None\n",
      "creating cue page=57 layer='Lights' number='132' name='Focus Hancock' notes='' id=None type='Network' layer='Lights' number='132' name='Focus Hancock' notes='p57' cues=None colorName=None armed=None\n",
      "creating cue page=57 layer='Lights' number='133' name='Focus Tally' notes='' id=None type='Network' layer='Lights' number='133' name='Focus Tally' notes='p57' cues=None colorName=None armed=None\n",
      "creating cue page=57 layer='Lights' number='134' name='Focus John' notes='' id=None type='Network' layer='Lights' number='134' name='Focus John' notes='p57' cues=None colorName=None armed=None\n",
      "creating cue page=59 layer='Lights' number='135' name='Focus Jefferson' notes='' id=None type='Network' layer='Lights' number='135' name='Focus Jefferson' notes='p59' cues=None colorName=None armed=None\n",
      "creating cue page=59 layer='Lights' number='136' name='Fade Jefferson' notes='' id=None type='Network' layer='Lights' number='136' name='Fade Jefferson' notes='p59' cues=None colorName=None armed=None\n",
      "creating cue page=62 layer='Lights' number='140' name='Congress adjourns' notes='' id=None type='Network' layer='Lights' number='140' name='Congress adjourns' notes='p62' cues=None colorName=None armed=None\n",
      "creating cue page=62 layer='Lights' number='141' name='Focus John, Franklin' notes='' id=None type='Network' layer='Lights' number='141' name='Focus John, Franklin' notes='p62' cues=None colorName=None armed=None\n",
      "creating cue page=63 layer='Lights' number='142' name='Glee Club' notes='' id=None type='Network' layer='Lights' number='142' name='Glee Club' notes='p63' cues=None colorName=None armed=None\n",
      "creating cue page=63 layer='Lights' number='143' name='John, Sherman' notes='' id=None type='Network' layer='Lights' number='143' name='John, Sherman' notes='p63' cues=None colorName=None armed=None\n",
      "creating cue page=64 layer='Lights' number='145' name='Sherman' notes='' id=None type='Network' layer='Lights' number='145' name='Sherman' notes='p64' cues=None colorName=None armed=None\n",
      "creating cue page=64 layer='Lights' number='146' name='Glee Club' notes='' id=None type='Network' layer='Lights' number='146' name='Glee Club' notes='p64' cues=None colorName=None armed=None\n",
      "creating cue page=64 layer='Lights' number='147' name='John, Livingston' notes='' id=None type='Network' layer='Lights' number='147' name='John, Livingston' notes='p64' cues=None colorName=None armed=None\n",
      "creating cue page=65 layer='Lights' number='148' name='Glee Club' notes='' id=None type='Network' layer='Lights' number='148' name='Glee Club' notes='p65' cues=None colorName=None armed=None\n",
      "creating cue page=65 layer='Lights' number='149' name='Back to John, Livingston' notes='' id=None type='Network' layer='Lights' number='149' name='Back to John, Livingston' notes='p65' cues=None colorName=None armed=None\n",
      "creating cue page=65 layer='Lights' number='150' name='Livingston' notes='' id=None type='Network' layer='Lights' number='150' name='Livingston' notes='p65' cues=None colorName=None armed=None\n",
      "creating cue page=66 layer='Lights' number='151' name='Glee Club' notes='' id=None type='Network' layer='Lights' number='151' name='Glee Club' notes='p66' cues=None colorName=None armed=None\n",
      "creating cue page=66 layer='Lights' number='152' name='Focus Jefferson' notes='' id=None type='Network' layer='Lights' number='152' name='Focus Jefferson' notes='p66' cues=None colorName=None armed=None\n",
      "creating cue page=66 layer='Lights' number='153' name='John, Jefferson, Glee Club bkg' notes='' id=None type='Network' layer='Lights' number='153' name='John, Jefferson, Glee Club bkg' notes='p66' cues=None colorName=None armed=None\n",
      "creating cue page=67 layer='Lights' number='154' name='Build' notes='' id=None type='Network' layer='Lights' number='154' name='Build' notes='p67' cues=None colorName=None armed=None\n",
      "creating cue page=67 layer='Lights' number='155' name='Stop' notes='' id=None type='Network' layer='Lights' number='155' name='Stop' notes='p67' cues=None colorName=None armed=None\n",
      "creating cue page=67 layer='Lights' number='156' name='Focus John' notes='' id=None type='Network' layer='Lights' number='156' name='Focus John' notes='p67' cues=None colorName=None armed=None\n",
      "creating cue page=67 layer='Lights' number='157' name='Glee Club' notes='' id=None type='Network' layer='Lights' number='157' name='Glee Club' notes='p67' cues=None colorName=None armed=None\n",
      "creating cue page=67 layer='Lights' number='158' name='Stop' notes='' id=None type='Network' layer='Lights' number='158' name='Stop' notes='p67' cues=None colorName=None armed=None\n",
      "creating cue page=67 layer='Lights' number='159' name='John, Jefferson' notes='' id=None type='Network' layer='Lights' number='159' name='John, Jefferson' notes='p67' cues=None colorName=None armed=None\n",
      "creating cue page=68 layer='Lights' number='160' name='I!' notes='' id=None type='Network' layer='Lights' number='160' name='I!' notes='p68' cues=None colorName=None armed=None\n",
      "creating cue page=68 layer='Lights' number='161' name='You?' notes='' id=None type='Network' layer='Lights' number='161' name='You?' notes='p68' cues=None colorName=None armed=None\n",
      "creating cue page=68 layer='Lights' number='162' name='Yes!' notes='' id=None type='Network' layer='Lights' number='162' name='Yes!' notes='p68' cues=None colorName=None armed=None\n",
      "creating cue page=68 layer='Lights' number='163' name='Jefferson sings' notes='' id=None type='Network' layer='Lights' number='163' name='Jefferson sings' notes='p68' cues=None colorName=None armed=None\n",
      "creating cue page=68 layer='Lights' number='164' name='Glee Club' notes='' id=None type='Network' layer='Lights' number='164' name='Glee Club' notes='p68' cues=None colorName=None armed=None\n",
      "creating cue page=68 layer='Lights' number='165' name='Final Glee Club' notes='' id=None type='Network' layer='Lights' number='165' name='Final Glee Club' notes='p68' cues=None colorName=None armed=None\n",
      "creating cue page=68 layer='Lights' number='166' name='Quiet!' notes='' id=None type='Network' layer='Lights' number='166' name='Quiet!' notes='p68' cues=None colorName=None armed=None\n",
      "creating cue page=69 layer='Lights' number='167' name='Glee Club' notes='' id=None type='Network' layer='Lights' number='167' name='Glee Club' notes='p69' cues=None colorName=None armed=None\n",
      "creating cue page=69 layer='Lights' number='169' name='Blackout' notes='' id=None type='Network' layer='Lights' number='169' name='Blackout' notes='p69' cues=None colorName=None armed=None\n",
      "creating cue page=70 layer='Lights' number='170' name=\"Scene 4 - Jefferson's Room\" notes='' id=None type='Network' layer='Lights' number='170' name=\"Scene 4 - Jefferson's Room\" notes='p70' cues=None colorName=None armed=None\n",
      "creating cue page=70 layer='Lights' number='171' name='Fade Jefferson' notes='' id=None type='Network' layer='Lights' number='171' name='Fade Jefferson' notes='p70' cues=None colorName=None armed=None\n",
      "creating cue page=70 layer='Lights' number='172' name='Fade up John' notes='' id=None type='Network' layer='Lights' number='172' name='Fade up John' notes='p70' cues=None colorName=None armed=None\n",
      "creating cue page=71 layer='Lights' number='173' name='Martha enters' notes='' id=None type='Network' layer='Lights' number='173' name='Martha enters' notes='p71' cues=None colorName=None armed=None\n",
      "creating cue page=72 layer='Lights' number='174' name='John approaces' notes='' id=None type='Network' layer='Lights' number='174' name='John approaces' notes='p72' cues=None colorName=None armed=None\n",
      "creating cue page=73 layer='Lights' number='175' name='Outside' notes='' id=None type='Network' layer='Lights' number='175' name='Outside' notes='p73' cues=None colorName=None armed=None\n",
      "creating cue page=74 layer='Lights' number='176' name='Franklin leaves' notes='' id=None type='Network' layer='Lights' number='176' name='Franklin leaves' notes='p74' cues=None colorName=None armed=None\n",
      "creating cue page=74 layer='Lights' number='177' name='Abigail appears' notes='' id=None type='Network' layer='Lights' number='177' name='Abigail appears' notes='p74' cues=None colorName=None armed=None\n",
      "creating cue page=75 layer='Lights' number='178' name='They move C' notes='' id=None type='Network' layer='Lights' number='178' name='They move C' notes='p75' cues=None colorName=None armed=None\n",
      "creating cue page=76 layer='Lights' number='180' name='\"Yours\"' notes='' id=None type='Network' layer='Lights' number='180' name='\"Yours\"' notes='p76' cues=None colorName=None armed=None\n",
      "creating cue page=76 layer='Lights' number='181' name='' notes='' id=None type='Network' layer='Lights' number='181' name='' notes='p76' cues=None colorName=None armed=None\n",
      "creating cue page=76 layer='Lights' number='182' name='' notes='' id=None type='Network' layer='Lights' number='182' name='' notes='p76' cues=None colorName=None armed=None\n",
      "creating cue page=76 layer='Lights' number='183' name='' notes='' id=None type='Network' layer='Lights' number='183' name='' notes='p76' cues=None colorName=None armed=None\n",
      "creating cue page=76 layer='Lights' number='184' name='' notes='' id=None type='Network' layer='Lights' number='184' name='' notes='p76' cues=None colorName=None armed=None\n",
      "creating cue page=77 layer='Lights' number='185' name='' notes='' id=None type='Network' layer='Lights' number='185' name='' notes='p77' cues=None colorName=None armed=None\n",
      "creating cue page=77 layer='Lights' number='186' name='' notes='' id=None type='Network' layer='Lights' number='186' name='' notes='p77' cues=None colorName=None armed=None\n",
      "creating cue page=77 layer='Lights' number='187' name='Franklin enters' notes='' id=None type='Network' layer='Lights' number='187' name='Franklin enters' notes='p77' cues=None colorName=None armed=None\n",
      "creating cue page=78 layer='Lights' number='190' name='Martha enters DSL' notes='' id=None type='Network' layer='Lights' number='190' name='Martha enters DSL' notes='p78' cues=None colorName=None armed=None\n",
      "creating cue page=79 layer='Lights' number='191' name='Focus Martha' notes='' id=None type='Network' layer='Lights' number='191' name='Focus Martha' notes='p79' cues=None colorName=None armed=None\n",
      "creating cue page=81 layer='Lights' number='195' name='' notes='' id=None type='Network' layer='Lights' number='195' name='' notes='p81' cues=None colorName=None armed=None\n",
      "creating cue page=81 layer='Lights' number='196' name='' notes='' id=None type='Network' layer='Lights' number='196' name='' notes='p81' cues=None colorName=None armed=None\n",
      "creating cue page=82 layer='Lights' number='200' name='\"He Plays the Violin\"' notes='' id=None type='Network' layer='Lights' number='200' name='\"He Plays the Violin\"' notes='p82' cues=None colorName=None armed=None\n",
      "creating cue page=82 layer='Lights' number='201' name='' notes='' id=None type='Network' layer='Lights' number='201' name='' notes='p82' cues=None colorName=None armed=None\n",
      "creating cue page=82 layer='Lights' number='202' name='' notes='' id=None type='Network' layer='Lights' number='202' name='' notes='p82' cues=None colorName=None armed=None\n",
      "creating cue page=82 layer='Lights' number='203' name='' notes='' id=None type='Network' layer='Lights' number='203' name='' notes='p82' cues=None colorName=None armed=None\n",
      "creating cue page=82 layer='Lights' number='204' name='' notes='' id=None type='Network' layer='Lights' number='204' name='' notes='p82' cues=None colorName=None armed=None\n",
      "creating cue page=83 layer='Lights' number='205' name='' notes='' id=None type='Network' layer='Lights' number='205' name='' notes='p83' cues=None colorName=None armed=None\n",
      "creating cue page=83 layer='Lights' number='206' name='' notes='' id=None type='Network' layer='Lights' number='206' name='' notes='p83' cues=None colorName=None armed=None\n",
      "creating cue page=84 layer='Lights' number='210' name='' notes='' id=None type='Network' layer='Lights' number='210' name='' notes='p84' cues=None colorName=None armed=None\n",
      "creating cue page=84 layer='Lights' number='211' name='' notes='' id=None type='Network' layer='Lights' number='211' name='' notes='p84' cues=None colorName=None armed=None\n",
      "creating cue page=84 layer='Lights' number='212' name='' notes='' id=None type='Network' layer='Lights' number='212' name='' notes='p84' cues=None colorName=None armed=None\n",
      "creating cue page=84 layer='Lights' number='213' name='' notes='' id=None type='Network' layer='Lights' number='213' name='' notes='p84' cues=None colorName=None armed=None\n",
      "creating cue page=84 layer='Lights' number='214' name='Button' notes='' id=None type='Network' layer='Lights' number='214' name='Button' notes='p84' cues=None colorName=None armed=None\n",
      "creating cue page=85 layer='Lights' number='215' name='Back to scene' notes='' id=None type='Network' layer='Lights' number='215' name='Back to scene' notes='p85' cues=None colorName=None armed=None\n",
      "creating cue page=85 layer='Lights' number='216' name='' notes='' id=None type='Network' layer='Lights' number='216' name='' notes='p85' cues=None colorName=None armed=None\n",
      "creating cue page=85 layer='Lights' number='217' name='' notes='' id=None type='Network' layer='Lights' number='217' name='' notes='p85' cues=None colorName=None armed=None\n",
      "creating cue page=85 layer='Lights' number='218' name='' notes='' id=None type='Network' layer='Lights' number='218' name='' notes='p85' cues=None colorName=None armed=None\n",
      "creating cue page=85 layer='Lights' number='219' name='Final button' notes='' id=None type='Network' layer='Lights' number='219' name='Final button' notes='p85' cues=None colorName=None armed=None\n",
      "creating cue page=86 layer='Lights' number='220' name='Scene 5 - The Chamber' notes='' id=None type='Network' layer='Lights' number='220' name='Scene 5 - The Chamber' notes='p86' cues=None colorName=None armed=None\n"
     ]
    }
   ],
   "source": [
    "c.sync_cuelist(\"1776_2024-10-24_14-53-12.csv\")"
   ]
  },
  {
   "cell_type": "code",
   "execution_count": 6,
   "metadata": {},
   "outputs": [],
   "source": [
    "from qlab.cues import QLabCue, flatten_cuelist\n",
    "\n",
    "# c.cuelists\n",
    "\n",
    "# c.cuelists[0].cues\n",
    "# c.cues\n",
    "# c.q.send('/cueLists')['data'][0]\n",
    "# q = QLabCue(**c.q.send('/cueLists')['data'][0])\n",
    "# f = flatten_cuelist(q)\n",
    "# len(f)"
   ]
  },
  {
   "cell_type": "code",
   "execution_count": 7,
   "metadata": {},
   "outputs": [],
   "source": [
    "# c.q.send('/new', ['network', '48aa2695-6b57-4625-8ad5-f73a1d21d6a7'])\n",
    "# c.cues['10']"
   ]
  }
 ],
 "metadata": {
  "kernelspec": {
   "display_name": ".venv",
   "language": "python",
   "name": "python3"
  },
  "language_info": {
   "codemirror_mode": {
    "name": "ipython",
    "version": 3
   },
   "file_extension": ".py",
   "mimetype": "text/x-python",
   "name": "python",
   "nbconvert_exporter": "python",
   "pygments_lexer": "ipython3",
   "version": "3.12.7"
  }
 },
 "nbformat": 4,
 "nbformat_minor": 2
}
