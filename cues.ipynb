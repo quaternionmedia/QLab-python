{
 "cells": [
  {
   "cell_type": "code",
   "execution_count": 1,
   "metadata": {},
   "outputs": [
    {
     "name": "stdout",
     "output_type": "stream",
     "text": [
      "sending:  b'\\xc0/cueLists\\x00\\x00\\x00,\\x00\\x00\\x00\\x00\\x00\\x00\\x00\\xc0'\n",
      "stripping SLIP from:  b'\\xc0/reply/workspace/B68E0ACE-B1B3-4122-A69B-E73532A7C4FC/cueLists\\x00\\x00,s\\x00\\x00{\"status\":\"ok\",\"data\":[{\"number\":\"0\",\"uniqueID\":\"BEFBF752-FB7D-45B1-AF6D-F1327A04BE10\",\"cues\":[],\"flagged\":false,\"listName\":\"Show Runner\",\"type\":\"Cue List\",\"colorName\":\"none\",\"name\":\"Show Runner\",\"armed\":true},{\"number\":\"-1\",\"uniqueID\":\"B70CDF1A-2A89-4AEC-A5F5-53F5F80DB464\",\"cues\":[],\"flagged\":false,\"listName\":\"Preflight\",\"type\":\"Cue List\",\"colorName\":\"none\",\"name\":\"Preflight\",\"armed\":true}],\"workspace_id\":\"B68E0ACE-B1B3-4122-A69B-E73532A7C4FC\",\"address\":\"\\\\/workspace\\\\/B68E0ACE-B1B3-4122-A69B-E73532A7C4FC\\\\/cueLists\"}\\x00\\x00\\x00\\xc0'\n",
      "/reply/workspace/B68E0ACE-B1B3-4122-A69B-E73532A7C4FC/cueLists\u0000\u0000,s\u0000\u0000\n"
     ]
    }
   ],
   "source": [
    "from qlab.cues import Cues, Cue\n",
    "\n",
    "c = Cues(\"../ShowRunner/Urinetown_2024-2-25_12-19-37.csv\")"
   ]
  },
  {
   "cell_type": "code",
   "execution_count": null,
   "metadata": {},
   "outputs": [],
   "source": [
    "# c.q.send('/alwaysReply', 1)\n",
    "# c.q.send('/cue/4/name', 'auto added')"
   ]
  },
  {
   "cell_type": "code",
   "execution_count": null,
   "metadata": {},
   "outputs": [],
   "source": [
    "c.cues[\"1\"]\n",
    "i = c.q.get_cue_property(\"1\", \"uniqueID\")\n",
    "# c.q.client.get_message()"
   ]
  },
  {
   "cell_type": "code",
   "execution_count": 3,
   "metadata": {},
   "outputs": [
    {
     "ename": "TypeError",
     "evalue": "QLab.send() takes from 1 to 3 positional arguments but 4 were given",
     "output_type": "error",
     "traceback": [
      "\u001b[0;31m---------------------------------------------------------------------------\u001b[0m",
      "\u001b[0;31mTypeError\u001b[0m                                 Traceback (most recent call last)",
      "Cell \u001b[0;32mIn[3], line 2\u001b[0m\n\u001b[1;32m      1\u001b[0m \u001b[38;5;66;03m# c.q.send(f'/cue_id/{i}/number')\u001b[39;00m\n\u001b[0;32m----> 2\u001b[0m \u001b[43mc\u001b[49m\u001b[38;5;241;43m.\u001b[39;49m\u001b[43mq\u001b[49m\u001b[38;5;241;43m.\u001b[39;49m\u001b[43msend\u001b[49m\u001b[43m(\u001b[49m\u001b[38;5;124;43m\"\u001b[39;49m\u001b[38;5;124;43m/new\u001b[39;49m\u001b[38;5;124;43m\"\u001b[39;49m\u001b[43m,\u001b[49m\u001b[43m \u001b[49m\u001b[38;5;124;43m\"\u001b[39;49m\u001b[38;5;124;43mnetwork\u001b[39;49m\u001b[38;5;124;43m\"\u001b[39;49m\u001b[43m,\u001b[49m\u001b[43m \u001b[49m\u001b[38;5;124;43m\"\u001b[39;49m\u001b[38;5;124;43m90E4A16E-3F5C-42B8-ACCA-EBE175667392\u001b[39;49m\u001b[38;5;124;43m\"\u001b[39;49m\u001b[43m)\u001b[49m\n",
      "\u001b[0;31mTypeError\u001b[0m: QLab.send() takes from 1 to 3 positional arguments but 4 were given"
     ]
    }
   ],
   "source": [
    "# c.q.send(f'/cue_id/{i}/number')\n",
    "c.q.send(\"/new\", [\"network\", \"90E4A16E-3F5C-42B8-ACCA-EBE175667392\"])"
   ]
  },
  {
   "cell_type": "code",
   "execution_count": 2,
   "metadata": {},
   "outputs": [
    {
     "name": "stdout",
     "output_type": "stream",
     "text": [
      "sending:  b'\\xc0/new\\x00\\x00\\x00\\x00,s\\x00\\x00network\\x00\\x00\\x00\\x00\\x00\\xc0'\n",
      "stripping SLIP from:  b'\\xc0/reply/workspace/B68E0ACE-B1B3-4122-A69B-E73532A7C4FC/new\\x00\\x00\\x00,s\\x00\\x00{\"status\":\"ok\",\"data\":\"90E4A16E-3F5C-42B8-ACCA-EBE175667392\",\"workspace_id\":\"B68E0ACE-B1B3-4122-A69B-E73532A7C4FC\",\"address\":\"\\\\/workspace\\\\/B68E0ACE-B1B3-4122-A69B-E73532A7C4FC\\\\/new\"}\\x00\\x00\\xc0'\n",
      "/reply/workspace/B68E0ACE-B1B3-4122-A69B-E73532A7C4FC/new\u0000\u0000\u0000,s\u0000\u0000\n",
      "sending:  b'\\xc0/cue_id/90E4A16E-3F5C-42B8-ACCA-EBE175667392/number\\x00,s\\x00\\x001\\x00\\x00\\x00\\x00\\x00\\x00\\x00\\xc0'\n",
      "stripping SLIP from:  b'\\xc0/reply/cue_id/90E4A16E-3F5C-42B8-ACCA-EBE175667392/number\\x00\\x00\\x00,s\\x00\\x00{\"workspace_id\":\"B68E0ACE-B1B3-4122-A69B-E73532A7C4FC\",\"address\":\"\\\\/cue_id\\\\/90E4A16E-3F5C-42B8-ACCA-EBE175667392\\\\/number\",\"status\":\"ok\"}\\x00\\x00\\x00\\x00\\xc0'\n",
      "/reply/cue_id/90E4A16E-3F5C-42B8-ACCA-EBE175667392/number\u0000\u0000\u0000,s\u0000\u0000\n",
      "sending:  b'\\xc0/cue_id/90E4A16E-3F5C-42B8-ACCA-EBE175667392/name\\x00\\x00\\x00,s\\x00\\x00Preshow\\x00\\x00\\x00\\x00\\x00\\xc0'\n",
      "stripping SLIP from:  b'\\xc0/reply/cue_id/90E4A16E-3F5C-42B8-ACCA-EBE175667392/name\\x00,s\\x00\\x00{\"workspace_id\":\"B68E0ACE-B1B3-4122-A69B-E73532A7C4FC\",\"address\":\"\\\\/cue_id\\\\/90E4A16E-3F5C-42B8-ACCA-EBE175667392\\\\/name\",\"status\":\"ok\"}\\x00\\x00\\xc0'\n",
      "/reply/cue_id/90E4A16E-3F5C-42B8-ACCA-EBE175667392/name\u0000,s\u0000\u0000\n",
      "sending:  b'\\xc0/cue_id/90E4A16E-3F5C-42B8-ACCA-EBE175667392/notes\\x00\\x00,s\\x00\\x00p8\\x00\\x00\\x00\\x00\\x00\\x00\\xc0'\n",
      "stripping SLIP from:  b'\\xc0/reply/cue_id/90E4A16E-3F5C-42B8-ACCA-EBE175667392/notes\\x00\\x00\\x00\\x00,s\\x00\\x00{\"workspace_id\":\"B68E0ACE-B1B3-4122-A69B-E73532A7C4FC\",\"address\":\"\\\\/cue_id\\\\/90E4A16E-3F5C-42B8-ACCA-EBE175667392\\\\/notes\",\"status\":\"ok\"}\\x00\\xc0'\n",
      "/reply/cue_id/90E4A16E-3F5C-42B8-ACCA-EBE175667392/notes\u0000\u0000\u0000\u0000,s\u0000\u0000\n",
      "sending:  b'\\xc0/new\\x00\\x00\\x00\\x00,[ss]\\x00\\x00\\x00network\\x0090E4A16E-3F5C-42B8-ACCA-EBE175667392\\x00\\x00\\x00\\x00\\x00\\x00\\x00\\x00\\xc0'\n"
     ]
    },
    {
     "ename": "KeyboardInterrupt",
     "evalue": "",
     "output_type": "error",
     "traceback": [
      "\u001b[0;31m---------------------------------------------------------------------------\u001b[0m",
      "\u001b[0;31mKeyboardInterrupt\u001b[0m                         Traceback (most recent call last)",
      "Cell \u001b[0;32mIn[2], line 1\u001b[0m\n\u001b[0;32m----> 1\u001b[0m \u001b[43mc\u001b[49m\u001b[38;5;241;43m.\u001b[39;49m\u001b[43msync_cuelist\u001b[49m\u001b[43m(\u001b[49m\u001b[43m)\u001b[49m\n",
      "File \u001b[0;32m~/qlab-python/qlab/cues.py:86\u001b[0m, in \u001b[0;36mCues.sync_cuelist\u001b[0;34m(self)\u001b[0m\n\u001b[1;32m     84\u001b[0m     previous \u001b[38;5;241m=\u001b[39m \u001b[38;5;28mself\u001b[39m\u001b[38;5;241m.\u001b[39mupdate_cue(q)\u001b[38;5;241m.\u001b[39mid\n\u001b[1;32m     85\u001b[0m \u001b[38;5;28;01melse\u001b[39;00m:\n\u001b[0;32m---> 86\u001b[0m     previous \u001b[38;5;241m=\u001b[39m \u001b[38;5;28;43mself\u001b[39;49m\u001b[38;5;241;43m.\u001b[39;49m\u001b[43mcreate_cue\u001b[49m\u001b[43m(\u001b[49m\u001b[43mq\u001b[49m\u001b[43m,\u001b[49m\u001b[43m \u001b[49m\u001b[43mprevious\u001b[49m\u001b[43m)\u001b[49m\u001b[38;5;241m.\u001b[39mid\n",
      "File \u001b[0;32m~/qlab-python/qlab/cues.py:106\u001b[0m, in \u001b[0;36mCues.create_cue\u001b[0;34m(self, cue, previous)\u001b[0m\n\u001b[1;32m    104\u001b[0m \u001b[38;5;28;01mif\u001b[39;00m previous:\n\u001b[1;32m    105\u001b[0m     value \u001b[38;5;241m=\u001b[39m [value, previous]\n\u001b[0;32m--> 106\u001b[0m cue\u001b[38;5;241m.\u001b[39mid \u001b[38;5;241m=\u001b[39m \u001b[38;5;28;43mself\u001b[39;49m\u001b[38;5;241;43m.\u001b[39;49m\u001b[43mq\u001b[49m\u001b[38;5;241;43m.\u001b[39;49m\u001b[43msend\u001b[49m\u001b[43m(\u001b[49m\n\u001b[1;32m    107\u001b[0m \u001b[43m    \u001b[49m\u001b[38;5;124;43m'\u001b[39;49m\u001b[38;5;124;43m/new\u001b[39;49m\u001b[38;5;124;43m'\u001b[39;49m\u001b[43m,\u001b[49m\n\u001b[1;32m    108\u001b[0m \u001b[43m    \u001b[49m\u001b[43mvalue\u001b[49m\u001b[43m,\u001b[49m\n\u001b[1;32m    109\u001b[0m \u001b[43m\u001b[49m\u001b[43m)\u001b[49m[\u001b[38;5;124m'\u001b[39m\u001b[38;5;124mdata\u001b[39m\u001b[38;5;124m'\u001b[39m]\n\u001b[1;32m    110\u001b[0m \u001b[38;5;28mself\u001b[39m\u001b[38;5;241m.\u001b[39mupdate_cue(cue)\n\u001b[1;32m    111\u001b[0m \u001b[38;5;28;01mreturn\u001b[39;00m cue\n",
      "File \u001b[0;32m~/qlab-python/qlab/qlab.py:15\u001b[0m, in \u001b[0;36mQLab.send\u001b[0;34m(self, message, value)\u001b[0m\n\u001b[1;32m     13\u001b[0m \u001b[38;5;28mself\u001b[39m\u001b[38;5;241m.\u001b[39mclient\u001b[38;5;241m.\u001b[39msend_message(message, value)\n\u001b[1;32m     14\u001b[0m \u001b[38;5;66;03m# sleep(0.01)\u001b[39;00m\n\u001b[0;32m---> 15\u001b[0m \u001b[38;5;28;01mreturn\u001b[39;00m \u001b[38;5;28;43mself\u001b[39;49m\u001b[38;5;241;43m.\u001b[39;49m\u001b[43mclient\u001b[49m\u001b[38;5;241;43m.\u001b[39;49m\u001b[43mget_message\u001b[49m\u001b[43m(\u001b[49m\u001b[43m)\u001b[49m\n",
      "File \u001b[0;32m~/qlab-python/qlab/osc.py:112\u001b[0m, in \u001b[0;36mOsc.get_message\u001b[0;34m(self)\u001b[0m\n\u001b[1;32m    111\u001b[0m \u001b[38;5;28;01mdef\u001b[39;00m \u001b[38;5;21mget_message\u001b[39m(\u001b[38;5;28mself\u001b[39m):  \u001b[38;5;66;03m# returns one message. Joins  until message is gotten.\u001b[39;00m\n\u001b[0;32m--> 112\u001b[0m     data, address \u001b[38;5;241m=\u001b[39m \u001b[38;5;28;43mself\u001b[39;49m\u001b[38;5;241;43m.\u001b[39;49m\u001b[43mconn\u001b[49m\u001b[38;5;241;43m.\u001b[39;49m\u001b[43mrecvfrom\u001b[49m\u001b[43m(\u001b[49m\u001b[38;5;241;43m2\u001b[39;49m\u001b[38;5;241;43m*\u001b[39;49m\u001b[38;5;241;43m*\u001b[39;49m\u001b[38;5;241;43m24\u001b[39;49m\u001b[43m)\u001b[49m\n\u001b[1;32m    113\u001b[0m     \u001b[38;5;28;01mreturn\u001b[39;00m tcpParse(data)\n",
      "\u001b[0;31mKeyboardInterrupt\u001b[0m: "
     ]
    }
   ],
   "source": [
    "c.sync_cuelist()"
   ]
  }
 ],
 "metadata": {
  "kernelspec": {
   "display_name": ".venv",
   "language": "python",
   "name": "python3"
  },
  "language_info": {
   "codemirror_mode": {
    "name": "ipython",
    "version": 3
   },
   "file_extension": ".py",
   "mimetype": "text/x-python",
   "name": "python",
   "nbconvert_exporter": "python",
   "pygments_lexer": "ipython3",
   "version": "3.12.1"
  }
 },
 "nbformat": 4,
 "nbformat_minor": 2
}
